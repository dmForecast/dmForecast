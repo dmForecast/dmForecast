{
 "cells": [
  {
   "cell_type": "code",
   "execution_count": 1,
   "metadata": {},
   "outputs": [],
   "source": [
    "# Third Party\n",
    "import matplotlib.pyplot as plt\n",
    "import astropy.stats.histogram as histogram\n",
    "import astropy.units as u\n",
    "import numpy as np\n",
    "# Package\n",
    "import stellar"
   ]
  },
  {
   "cell_type": "markdown",
   "metadata": {},
   "source": [
    "# Initialize tracer profile\n",
    "## plummer sphere:\n",
    "Params:<br>\n",
    "- a: Plummer radius,<br>\n",
    "<b>mass OR density</b>:<br>\n",
    "- mass: total stellar mass $\\mathrm{M}_{\\odot}$<br>\n",
    "- density: scale density: $\\mathrm{M}_{\\odot}\\,\\mathrm{kpc}^{-3}$<br>"
   ]
  },
  {
   "cell_type": "code",
   "execution_count": 2,
   "metadata": {},
   "outputs": [],
   "source": [
    "# Plummer parameters:\n",
    "a    = .25 * u.kpc     # Plummer radius\n",
    "mass = 1e5 * u.solMass # Mass of stellar systems #! Doesn't matter - set it to number of tracers you want to draw for easy comparison\n",
    "\n",
    "#* Initialize stellar distribution\n",
    "tracer = stellar.plummer(a=a, mass=mass)"
   ]
  },
  {
   "cell_type": "code",
   "execution_count": 3,
   "metadata": {},
   "outputs": [
    {
     "data": {
      "text/latex": [
       "$\\displaystyle \\rho(r)=\\frac{3M_{0}}{4\\pi{}a^3}\\left(1+\\frac{r^2}{a^2}\\right)^{-\\frac{5}{2}}$"
      ],
      "text/plain": [
       "\\rho(r)=\\frac{3M_{0}}{4\\pi{}a^3}\\left(1+\\frac{r^2}{a^2}\\right)^{-\\frac{5}{2}}"
      ]
     },
     "metadata": {},
     "output_type": "display_data"
    },
    {
     "data": {
      "text/plain": [
       "M = 1.00e+05 solMass\n",
       "a = 2.50e-01 kpc"
      ]
     },
     "execution_count": 3,
     "metadata": {},
     "output_type": "execute_result"
    }
   ],
   "source": [
    "# for viewing convenience\n",
    "tracer"
   ]
  },
  {
   "cell_type": "markdown",
   "metadata": {},
   "source": [
    "# Initialize dark matter profile\n",
    "## Herquist-Zhao:\n",
    "<!-- $\n",
    "\\begin{align}\n",
    "\\rho(r) = \\frac{\\rho_s}{\\left(\\frac{r}{r_s}\\right)^{a} \\left(1+\\left(\\frac{r}{r_s}\\right)^{b}\\right)^{\\frac{c-a}{b}}}\n",
    "\\end{align}\n",
    "$ -->"
   ]
  },
  {
   "cell_type": "code",
   "execution_count": 4,
   "metadata": {},
   "outputs": [
    {
     "data": {
      "text/latex": [
       "$\\displaystyle \\rho(r)=\\frac{\\rho_s}{\\left(\\frac{r}{r_s}\\right)^{a}\\left(1+\\left(\\frac{r}{r_s}\\right)^{b}\\right)^{\\frac{c-a}{b}}}$"
      ],
      "text/plain": [
       "\\rho(r)=\\frac{\\rho_s}{\\left(\\frac{r}{r_s}\\right)^{a}\\left(1+\\left(\\frac{r}{r_s}\\right)^{b}\\right)^{\\frac{c-a}{b}}}"
      ]
     },
     "metadata": {},
     "output_type": "display_data"
    },
    {
     "data": {
      "text/plain": [
       "rho_s = 2.00e+07 solMass / kpc3\n",
       "r_s = 2.00e+00 kpc \n",
       "a = 1\n",
       "b = 1 \n",
       "c = 3"
      ]
     },
     "execution_count": 4,
     "metadata": {},
     "output_type": "execute_result"
    }
   ],
   "source": [
    "thetaNFW = {'rho_s':2e7 *u.solMass/u.kpc**3, # scale radius\n",
    "            'r_s'  : 2*u.kpc,                # scale density\n",
    "            'a'    : 1,                      # inner-slope\n",
    "            'b'    : 1,                      # \"width\" of transition\n",
    "            'c'    : 3                       # outer-slope\n",
    "        }\n",
    "dm = stellar.HerquistZhao(**thetaNFW)\n",
    "dm"
   ]
  },
  {
   "cell_type": "code",
   "execution_count": 5,
   "metadata": {},
   "outputs": [],
   "source": [
    "dracoLike = stellar.System(dark_matter=dm,tracer=tracer,beta=0,pm=False)"
   ]
  },
  {
   "cell_type": "code",
   "execution_count": 6,
   "metadata": {},
   "outputs": [],
   "source": [
    "priors={'a'     : 1 ,\n",
    "        'lnrho' : 1 ,\n",
    "        'lnr'   : 1 ,\n",
    "        'beta'  : 1 ,\n",
    "        'b'     : 1 ,\n",
    "        'c'     : 1 }"
   ]
  },
  {
   "cell_type": "code",
   "execution_count": 9,
   "metadata": {},
   "outputs": [],
   "source": [
    "R_observed = np.logspace(-2,0,20)*u.kpc \n",
    "sigma,cov = dracoLike.Covariance(R_observed,dv=2*u.km/u.s,priors=priors)\n",
    "# print(cov)"
   ]
  },
  {
   "cell_type": "code",
   "execution_count": 11,
   "metadata": {},
   "outputs": [
    {
     "data": {
      "text/html": [
       "<div>\n",
       "<style scoped>\n",
       "    .dataframe tbody tr th:only-of-type {\n",
       "        vertical-align: middle;\n",
       "    }\n",
       "\n",
       "    .dataframe tbody tr th {\n",
       "        vertical-align: top;\n",
       "    }\n",
       "\n",
       "    .dataframe thead th {\n",
       "        text-align: right;\n",
       "    }\n",
       "</style>\n",
       "<table border=\"1\" class=\"dataframe\">\n",
       "  <thead>\n",
       "    <tr style=\"text-align: right;\">\n",
       "      <th></th>\n",
       "      <th>$\\sigma_a$</th>\n",
       "      <th>$\\sigma{\\ln\\rho_s}$</th>\n",
       "      <th>$\\sigma_{\\lnr_s}$</th>\n",
       "      <th>$\\sigma_{\\beta}$</th>\n",
       "      <th>$\\sigma_{b}$</th>\n",
       "      <th>$\\sigma_{c}$</th>\n",
       "    </tr>\n",
       "  </thead>\n",
       "  <tbody>\n",
       "    <tr>\n",
       "      <th>0</th>\n",
       "      <td>0.489994</td>\n",
       "      <td>0.928371</td>\n",
       "      <td>0.814538</td>\n",
       "      <td>0.590341</td>\n",
       "      <td>0.876547</td>\n",
       "      <td>0.986246</td>\n",
       "    </tr>\n",
       "  </tbody>\n",
       "</table>\n",
       "</div>"
      ],
      "text/plain": [
       "   $\\sigma_a$  $\\sigma{\\ln\\rho_s}$  $\\sigma_{\\lnr_s}$  $\\sigma_{\\beta}$  \\\n",
       "0    0.489994             0.928371           0.814538          0.590341   \n",
       "\n",
       "   $\\sigma_{b}$  $\\sigma_{c}$  \n",
       "0      0.876547      0.986246  "
      ]
     },
     "execution_count": 11,
     "metadata": {},
     "output_type": "execute_result"
    }
   ],
   "source": [
    "sigma"
   ]
  },
  {
   "cell_type": "code",
   "execution_count": 15,
   "metadata": {},
   "outputs": [
    {
     "data": {
      "text/plain": [
       "array([[ 0.24009446, -0.21353256, -0.1917102 , -0.19280684, -0.0314963 ,\n",
       "        -0.0178725 ],\n",
       "       [-0.21353256,  0.86187313, -0.20226944,  0.05263578, -0.14226295,\n",
       "         0.03778146],\n",
       "       [-0.1917102 , -0.20226944,  0.66347261,  0.11240649, -0.26497164,\n",
       "         0.0814366 ],\n",
       "       [-0.19280684,  0.05263578,  0.11240649,  0.34850255,  0.142388  ,\n",
       "        -0.03352441],\n",
       "       [-0.0314963 , -0.14226295, -0.26497164,  0.142388  ,  0.76833513,\n",
       "         0.07493248],\n",
       "       [-0.0178725 ,  0.03778146,  0.0814366 , -0.03352441,  0.07493248,\n",
       "         0.97268112]])"
      ]
     },
     "execution_count": 15,
     "metadata": {},
     "output_type": "execute_result"
    }
   ],
   "source": [
    "cov"
   ]
  },
  {
   "cell_type": "code",
   "execution_count": null,
   "metadata": {},
   "outputs": [],
   "source": []
  }
 ],
 "metadata": {
  "interpreter": {
   "hash": "613ddd658b9a83c656e8f66ac7ed2a260b601319ea386abe0bce20d4eb3b5ff0"
  },
  "kernelspec": {
   "display_name": "Python 3.8.8 64-bit ('base': conda)",
   "language": "python",
   "name": "python3"
  },
  "language_info": {
   "codemirror_mode": {
    "name": "ipython",
    "version": 3
   },
   "file_extension": ".py",
   "mimetype": "text/x-python",
   "name": "python",
   "nbconvert_exporter": "python",
   "pygments_lexer": "ipython3",
   "version": "3.8.8"
  },
  "orig_nbformat": 4
 },
 "nbformat": 4,
 "nbformat_minor": 2
}
